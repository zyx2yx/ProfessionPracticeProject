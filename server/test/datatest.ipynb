{
 "cells": [
  {
   "cell_type": "code",
   "execution_count": 1,
   "metadata": {},
   "outputs": [
    {
     "name": "stdout",
     "output_type": "stream",
     "text": [
      "['Absolutely_Correct' 'Error1' 'Absolutely_Error' 'Error6' 'Error4'\n",
      " 'Partially_Correct' 'Error2' 'Error3' 'Error5' 'Error7' 'Error8' 'Error9']\n",
      "['Method_Cj9Ya2R7fZd6xs1q5mNQ' 'Method_gj1NLb4Jn7URf9K2kQPd'\n",
      " 'Method_5Q4KoXthUuYz3bvrTDFm' 'Method_m8vwGkEZc3TSW2xqYUoR'\n",
      " 'Method_BXr9AIsPQhwNvyGdZL57']\n",
      "[1, 'Class1', 1704209852.0, 'Absolutely_Correct', 3, 'Question_62XbhBvJ8NUSnApgDL94', 'Method_gj1NLb4Jn7URf9K2kQPd', 356, 3.0, '8b6d1125760bd3939b6e', 'female', 24.0, 'J23517', 'y9W5d', 'y9W5d_c0w4mj5h', 3.0]\n"
     ]
    }
   ],
   "source": [
    "import pandas as pd\n",
    "import numpy as np\n",
    "import os\n",
    "\n",
    "relative_path = \"../../sourcedata/\"\n",
    "# 获取当前文件路径\n",
    "\n",
    "\n",
    "student_info = pd.read_csv(relative_path + 'All_Class/all_class_submit_record.csv')\n",
    "# 分别对state、method列去重并输出\n",
    "print(student_info['state'].unique())\n",
    "print(student_info['method'].unique())\n",
    "print(student_info.iloc[1].to_list())"
   ]
  },
  {
   "cell_type": "code",
   "execution_count": 10,
   "metadata": {},
   "outputs": [
    {
     "name": "stdout",
     "output_type": "stream",
     "text": [
      "[1, 3, 2, 4]\n"
     ]
    }
   ],
   "source": [
    "list1 = [1,3]\n",
    "list2 = [2,4]\n",
    "print(list1+list2)"
   ]
  },
  {
   "cell_type": "code",
   "execution_count": 5,
   "metadata": {},
   "outputs": [
    {
     "name": "stdout",
     "output_type": "stream",
     "text": [
      "[{'name': 'b3C9s', 'children': [{'name': 'b3C9s_j0v1yls8', 'value': 4}, {'name': 'b3C9s_l4z6od7y', 'value': 6}]}, {'name': 'g7R2j', 'children': [{'name': 'g7R2j_e0v1yls8', 'value': 12}, {'name': 'g7R2j_j1g8gd3v', 'value': 3}]}, {'name': 'k4W1c', 'children': [{'name': 'k4W1c_h5r6nux7', 'value': 3}]}, {'name': 'm3D1v', 'children': [{'name': 'm3D1v_r1d7fr3l', 'value': 27}, {'name': 'm3D1v_t0v5ts9h', 'value': 3}, {'name': 'm3D1v_v3d9is1x', 'value': 6}]}, {'name': 'r8S3g', 'children': [{'name': 'r8S3g_l0p5viby', 'value': 2}, {'name': 'r8S3g_n0m9rsw4', 'value': 4}]}, {'name': 's8Y2f', 'children': [{'name': 's8Y2f_v4x8by9j', 'value': 3}]}, {'name': 't5V9e', 'children': [{'name': 't5V9e_e1k6cixp', 'value': 10}]}, {'name': 'y9W5d', 'children': [{'name': 'y9W5d_c0w4mj5h', 'value': 24}, {'name': 'y9W5d_e2j7p95s', 'value': 3}, {'name': 'y9W5d_p8g6dgtv', 'value': 6}]}]\n"
     ]
    }
   ],
   "source": [
    "# 统计各个知识点的总分分布\n",
    "# 读取题目信息 title = 题目\n",
    "title_info = pd.read_csv(relative_path + 'Data_TitleInfo.csv')\n",
    "score_distribution = title_info.groupby('knowledge')['score'].sum()\n",
    "score_sub_distribution = title_info.groupby('sub_knowledge')['score'].sum()\n",
    "# print(score_distribution)\n",
    "# print(score_sub_distribution)\n",
    "\n",
    "def find_index(list, name):\n",
    "    for i in range(0, len(list)):\n",
    "        if list[i][\"name\"] == name:\n",
    "            return i\n",
    "    return -1\n",
    "# 遍历score_sub_distribution\n",
    "resdata = []\n",
    "for index, value in score_sub_distribution.items():\n",
    "    # print(index, value) # b3C9s_j0v1yls8     4\n",
    "    kg = index.split('_')[0]\n",
    "    skg = index.split('_')[1]\n",
    "    item = { \"name\":index, \"value\":value }\n",
    "    idx = find_index(resdata, kg)\n",
    "    if idx  == -1:\n",
    "        resdata.append({\"name\":kg, \"children\":[item]})\n",
    "    else:\n",
    "        resdata[idx][\"children\"].append(item)\n",
    "print(resdata)"
   ]
  }
 ],
 "metadata": {
  "kernelspec": {
   "display_name": "project_SONG",
   "language": "python",
   "name": "python3"
  },
  "language_info": {
   "codemirror_mode": {
    "name": "ipython",
    "version": 3
   },
   "file_extension": ".py",
   "mimetype": "text/x-python",
   "name": "python",
   "nbconvert_exporter": "python",
   "pygments_lexer": "ipython3",
   "version": "3.12.0"
  }
 },
 "nbformat": 4,
 "nbformat_minor": 2
}

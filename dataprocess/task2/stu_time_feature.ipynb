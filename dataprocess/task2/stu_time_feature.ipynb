{
 "cells": [
  {
   "cell_type": "code",
   "execution_count": null,
   "metadata": {},
   "outputs": [],
   "source": [
    "# 获取学生每天的学习时间段，源数据包含15个班级1364名学生从2023年8月31日到2024年1月25日共148天的学习行为模拟数据\n",
    "\n",
    "import pandas as pd\n",
    "import numpy as np\n",
    "import matplotlib.pyplot as plt\n",
    "import seaborn as sns\n",
    "from sklearn.cluster import KMeans\n",
    "from sklearn.preprocessing import StandardScaler\n",
    "from datetime import datetime\n",
    "from math import pi\n",
    "import os\n",
    "# submit_record = pd.read_csv('path_to_your_data.csv')\n",
    "\n",
    "relative_path = '../../sourcedata/'\n",
    "\n",
    "# 读取题目信息 title = 题目\n",
    "title_info = pd.read_csv(relative_path + 'Data_TitleInfo.csv')\n",
    "\n",
    "# 读取学生信息 student = 学生\n",
    "student_info = pd.read_csv(relative_path + 'Data_StudentInfo.csv')\n",
    "\n",
    "# 读取学生答题记录\n",
    "# submit_record = pd.read_csv(relative_path + 'All_Class/all_class_submit_record.csv')"
   ]
  },
  {
   "cell_type": "code",
   "execution_count": null,
   "metadata": {},
   "outputs": [],
   "source": [
    "\n",
    "# 根据submit_record中答题时间，计算学生每天0-24小时的学习时间\n",
    "def get_study_time(submit_record):\n",
    "    # 将submit_record按student_ID分组再按time排序\n",
    "    submit_record.groupby('student_ID').apply(lambda x: x.sort_values('time'))"
   ]
  },
  {
   "cell_type": "code",
   "execution_count": null,
   "metadata": {},
   "outputs": [],
   "source": [
    "# 读取Data_SubmitRecord文件夹中的所有csv文件\n",
    "for file in os.listdir(relative_path + 'Merged_Data_SubmitRecord'):\n",
    "    print(file + ' check start!')\n",
    "    submit_record =  pd.read_csv(relative_path + 'Merged_Data_SubmitRecord/' + file)\n",
    "    # 从file(SubmitRecord-Class1)提取出班级\n",
    "    class_name = file.split('-')[1].split('.')[0]\n",
    "\n",
    "    print('class_name:', class_name)\n",
    "\n",
    "\n",
    "    # submit_record.to_csv(relative_path + 'Merged_Data_SubmitRecord/' + file, index=False) # 保存文件\n",
    "\n",
    "    print(file + ' check end and saved!\\n')\n",
    "    # break"
   ]
  }
 ],
 "metadata": {
  "kernelspec": {
   "display_name": "project_SONG",
   "language": "python",
   "name": "python3"
  },
  "language_info": {
   "name": "python",
   "version": "3.12.0"
  }
 },
 "nbformat": 4,
 "nbformat_minor": 2
}

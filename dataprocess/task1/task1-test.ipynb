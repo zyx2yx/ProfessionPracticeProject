{
 "cells": [
  {
   "cell_type": "code",
   "execution_count": 26,
   "metadata": {},
   "outputs": [],
   "source": [
    "import pandas as pd\n",
    "\n",
    "relative_path = '../../sourcedata/'\n",
    "# 读取题目信息 title = 题目\n",
    "title_info = pd.read_csv(relative_path + 'Data_TitleInfo.csv')\n",
    "\n",
    "# 读取学生答题记录\n",
    "# submit_record = pd.read_csv(relative_path + 'SubmitRecord-Class1-Example.csv')\n",
    "submit_record = pd.read_csv(relative_path + 'Data_SubmitRecord/SubmitRecord-Class1.csv')"
   ]
  },
  {
   "cell_type": "code",
   "execution_count": 27,
   "metadata": {},
   "outputs": [],
   "source": [
    "# 保留每个学生对每道题目的最高分\n",
    "# sort_values：按 student_ID、title_ID 和 score 排序，确保最高分排在最前面。\n",
    "# drop_duplicates：移除重复项，只保留每个学生对每道题目的最高分（因为 keep='first'）。\n",
    "submit_record = submit_record.sort_values(by=['student_ID', 'title_ID', 'score'], ascending=[True, True, False])\n",
    "submit_record = submit_record.drop_duplicates(subset=['student_ID', 'title_ID'], keep='first')"
   ]
  },
  {
   "cell_type": "code",
   "execution_count": 28,
   "metadata": {},
   "outputs": [],
   "source": [
    "# 初始化学生-知识点得分矩阵\n",
    "students = submit_record['student_ID'].unique()\n",
    "knowledge_points = title_info['knowledge'].unique()\n",
    "sub_knowledge_points = title_info['sub_knowledge'].unique()\n",
    "\n",
    "\n",
    "student_subknowledge_score = pd.DataFrame(0, index=students, columns=sub_knowledge_points)\n",
    "student_knowledge_score = pd.DataFrame(0, index=students, columns=knowledge_points)\n",
    "\n",
    "# 计算每个学生在每个知识点上的得分\n",
    "for _, row in submit_record.iterrows():\n",
    "    student_id = row['student_ID'] # 取出学生ID\n",
    "    score = row['score'] # 取出得分\n",
    "    title_id = row['title_ID'] # 取出题目ID\n",
    "\n",
    "    title_info_row = title_info[title_info['title_ID'] == title_id] # 取出对应的题目行信息\n",
    "    subknowledge_point = title_info_row['sub_knowledge'].values[0] # 取题目对应的2级知识点\n",
    "    knowledge_point = title_info_row['knowledge'].values[0] # 取题目对应的1级知识点\n",
    "    # full_score = title_info_row['score'].values[0] # 取题目对应的满分值\n",
    "    student_subknowledge_score.loc[student_id, subknowledge_point] += score\n",
    "    student_knowledge_score.loc[student_id, knowledge_point] += score\n",
    "\n",
    "# 标准化得分（0到1之间）\n",
    "total_full_subscores = title_info.groupby('sub_knowledge')['score'].sum()\n",
    "total_full_scores = title_info.groupby('knowledge')['score'].sum()\n",
    "student_subknowledge_score = student_subknowledge_score.div(total_full_subscores, axis=1) # axis=1表示按列索引相除\n",
    "student_knowledge_score = student_knowledge_score.div(total_full_scores, axis=1) # axis=1表示按列索引相除\n"
   ]
  },
  {
   "cell_type": "code",
   "execution_count": 29,
   "metadata": {},
   "outputs": [],
   "source": [
    "# 将student_subknowledge_score，student_knowledge_score保存到文件\n",
    "student_subknowledge_score.to_csv('./evaluation/student_subknowledge_score.csv')\n",
    "student_knowledge_score.to_csv('./evaluation/student_knowledge_score.csv')"
   ]
  },
  {
   "cell_type": "code",
   "execution_count": 25,
   "metadata": {},
   "outputs": [
    {
     "name": "stdout",
     "output_type": "stream",
     "text": [
      "(14, 15) ['b3C9s_j0v1yls8' 'b3C9s_l4z6od7y' 'g7R2j_e0v1yls8' 'g7R2j_j1g8gd3v'\n",
      " 'k4W1c_h5r6nux7' 'm3D1v_r1d7fr3l' 'm3D1v_t0v5ts9h' 'm3D1v_v3d9is1x'\n",
      " 'r8S3g_l0p5viby' 'r8S3g_n0m9rsw4' 's8Y2f_v4x8by9j' 't5V9e_e1k6cixp'\n",
      " 'y9W5d_c0w4mj5h' 'y9W5d_e2j7p95s' 'y9W5d_p8g6dgtv']\n"
     ]
    },
    {
     "name": "stderr",
     "output_type": "stream",
     "text": [
      "C:\\Users\\adminzyx\\AppData\\Local\\Temp\\ipykernel_1876\\3068242539.py:6: FutureWarning: DataFrame.applymap has been deprecated. Use DataFrame.map instead.\n",
      "  weak_subknowledge_points = student_subknowledge_score.applymap(lambda x: x < threshold)\n",
      "C:\\Users\\adminzyx\\AppData\\Local\\Temp\\ipykernel_1876\\3068242539.py:7: FutureWarning: DataFrame.applymap has been deprecated. Use DataFrame.map instead.\n",
      "  weak_knowledge_points = student_knowledge_score.applymap(lambda x: x < threshold)\n"
     ]
    }
   ],
   "source": [
    "# 设定掌握阈值\n",
    "threshold = 0.6\n",
    "print(student_subknowledge_score.shape, student_subknowledge_score.columns.values)\n",
    "\n",
    "# 判断每个学生的薄弱知识点 如果某个学生对某个知识点的掌握程度小于 60%，则对应的值为 True，否则为 False。\n",
    "weak_subknowledge_points = student_subknowledge_score.applymap(lambda x: x < threshold)\n",
    "weak_knowledge_points = student_knowledge_score.applymap(lambda x: x < threshold)\n",
    "# print(weak_subknowledge_points.columns.values)\n",
    "\n",
    "# 输出薄弱知识点\n",
    "for student in weak_subknowledge_points.index:\n",
    "    # 获取特定学生的薄弱知识点信息，即该学生在各知识点上的布尔值序列。筛选出布尔值为 True 的列名（即薄弱知识点）。\n",
    "    weak_points = weak_subknowledge_points.columns[weak_subknowledge_points.loc[student]].tolist() \n",
    "    # print(f\"学生 {student} 的薄弱知识点：{', '.join(weak_points)}\")\n",
    "# 输出薄弱知识点\n",
    "for student in weak_knowledge_points.index:\n",
    "    # 获取特定学生的薄弱知识点信息，即该学生在各知识点上的布尔值序列。筛选出布尔值为 True 的列名（即薄弱知识点）。\n",
    "    weak_points = weak_knowledge_points.columns[weak_knowledge_points.loc[student]].tolist() \n",
    "    # print(f\"学生 {student} 的薄弱知识点：{', '.join(weak_points)}\")\n"
   ]
  }
 ],
 "metadata": {
  "kernelspec": {
   "display_name": "project_SONG",
   "language": "python",
   "name": "python3"
  },
  "language_info": {
   "codemirror_mode": {
    "name": "ipython",
    "version": 3
   },
   "file_extension": ".py",
   "mimetype": "text/x-python",
   "name": "python",
   "nbconvert_exporter": "python",
   "pygments_lexer": "ipython3",
   "version": "3.12.0"
  }
 },
 "nbformat": 4,
 "nbformat_minor": 2
}

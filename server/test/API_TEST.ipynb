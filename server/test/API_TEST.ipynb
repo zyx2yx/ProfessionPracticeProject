{
 "cells": [
  {
   "cell_type": "code",
   "execution_count": 13,
   "metadata": {},
   "outputs": [
    {
     "name": "stdout",
     "output_type": "stream",
     "text": [
      "http://localhost:8080/studentinfo/paralleldata\n",
      "200\n",
      "请求参数---- b'{\"student_ids\": [], \"class_ids\": [\"Class1\"], \"start_time\": \"2020-01-01T00:00:00Z\", \"end_time\": \"2020-01-01T00:00:00Z\"}'\n",
      "返回值---- {\"status\": 0, \"student_ids\": [], \"class_ids\": [\"Class1\"], \"res_data\": {\"Class1\": {\"attempts_all\": 202.72916666666666, \"avg_correct_rate\": 0.2510820288200232, \"most_common_hour\": 14, \"most_common_method\": \"Method_m8vwGkEZc3TSW2xqYUoR\", \"most_common_state\": \"Absolutely_Correct\", \"attempts_avg\": 5.416927844628358, \"attempts_questions_num\": 37.208333333333336, \"active_days\": 37.229166666666664, \"learn_hours\": 76.66666666666667, \"avg_score_ratio\": 0.8769214566907904, \"total_score\": 86.60416666666667}}, \"error_msg\": \"empty student_ids or class_ids!\"}\n"
     ]
    }
   ],
   "source": [
    "import requests\n",
    "\n",
    "# 输出返回值\n",
    "re = requests.post(\n",
    "    \"http://localhost:8080/studentinfo/paralleldata\",\n",
    "    json={\n",
    "        \"student_ids\": [],\n",
    "        \"class_ids\": [\"Class1\"],\n",
    "        \"start_time\": \"2020-01-01T00:00:00Z\",\n",
    "        \"end_time\": \"2020-01-01T00:00:00Z\",\n",
    "    }\n",
    ")\n",
    "\n",
    "print(re.url)  # 查看url\n",
    "print(re.status_code)  # 查看状态码\n",
    "print('请求参数----',re.request.body)  # 查看请求参数\n",
    "print('返回值----',re.text)  # 查看返回值\n"
   ]
  },
  {
   "cell_type": "code",
   "execution_count": 5,
   "metadata": {},
   "outputs": [
    {
     "name": "stdout",
     "output_type": "stream",
     "text": [
      "    A   B   C   D\n",
      "0  13  37  40  80\n",
      "1  75  68  53  12\n",
      "2  52  89  42  92\n",
      "3  74  33  93  89\n",
      "4  14   1  60  42\n",
      "5  82  78  33  76\n",
      "6  94  60  39  23\n",
      "7  45  58  62  10\n",
      "8   2  58  26  17\n",
      "9   5  56  45  25\n"
     ]
    }
   ],
   "source": [
    "import pandas as pd\n",
    "import numpy as np\n",
    "\n",
    "# 新建一个DataFrame，10 * 4 全为数字\n",
    "df = pd.DataFrame(np.random.randint(0, 100, size=(10, 4)), columns=list(\"ABCD\"))\n",
    "print(df)"
   ]
  },
  {
   "cell_type": "code",
   "execution_count": 8,
   "metadata": {},
   "outputs": [
    {
     "name": "stdout",
     "output_type": "stream",
     "text": [
      "    A   B   C   D\n",
      "0  13  37  40  80\n"
     ]
    }
   ],
   "source": [
    "print(df[df['A'] == 13])"
   ]
  }
 ],
 "metadata": {
  "kernelspec": {
   "display_name": "project_SONG",
   "language": "python",
   "name": "python3"
  },
  "language_info": {
   "codemirror_mode": {
    "name": "ipython",
    "version": 3
   },
   "file_extension": ".py",
   "mimetype": "text/x-python",
   "name": "python",
   "nbconvert_exporter": "python",
   "pygments_lexer": "ipython3",
   "version": "3.12.0"
  }
 },
 "nbformat": 4,
 "nbformat_minor": 2
}

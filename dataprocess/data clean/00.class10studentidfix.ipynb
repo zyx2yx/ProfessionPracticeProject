{
 "cells": [
  {
   "cell_type": "code",
   "execution_count": 1,
   "metadata": {},
   "outputs": [],
   "source": [
    "import pandas as pd\n",
    "\n",
    "relative_path = '../../sourcedata/'\n",
    "\n",
    "submit_record = pd.read_csv(relative_path + 'Data_SubmitRecord/SubmitRecord-Class10.csv')\n",
    "for _, row in submit_record.iterrows():\n",
    "    if row['student_ID'] == '44c7cf3881ae07f7fb3eD':\n",
    "        submit_record.loc[row.name, 'student_ID'] = '44c7cf3881ae07f7fb3e'\n",
    "        break\n",
    "\n",
    "submit_record.to_csv(relative_path + 'Data_SubmitRecord/SubmitRecord-Class10.csv', index=False) # index=False 不保存行索引"
   ]
  },
  {
   "cell_type": "code",
   "execution_count": 2,
   "metadata": {},
   "outputs": [
    {
     "name": "stdout",
     "output_type": "stream",
     "text": [
      "学生数: 1364\n",
      "题目数: 38\n",
      "知识点数: 8\n",
      "子知识点数: 15\n"
     ]
    }
   ],
   "source": [
    "relative_path = '../../sourcedata/'\n",
    "\n",
    "# 读取题目信息 title = 题目\n",
    "title_info = pd.read_csv(relative_path + 'Data_TitleInfo.csv')\n",
    "\n",
    "# 读取学生信息 student = 学生\n",
    "student_info = pd.read_csv(relative_path + 'Data_StudentInfo.csv')\n",
    "\n",
    "# 获取去重的学生ID和知识点\n",
    "students = student_info['student_ID'].unique()\n",
    "title_num = title_info['title_ID'].unique()\n",
    "knowledge_points = title_info['knowledge'].unique()\n",
    "sub_knowledge_points = title_info['sub_knowledge'].unique()\n",
    "\n",
    "print('学生数:', len(students))\n",
    "print('题目数:', len(title_num))\n",
    "print('知识点数:', len(knowledge_points))\n",
    "print('子知识点数:', len(sub_knowledge_points))"
   ]
  }
 ],
 "metadata": {
  "kernelspec": {
   "display_name": "project_SONG",
   "language": "python",
   "name": "python3"
  },
  "language_info": {
   "codemirror_mode": {
    "name": "ipython",
    "version": 3
   },
   "file_extension": ".py",
   "mimetype": "text/x-python",
   "name": "python",
   "nbconvert_exporter": "python",
   "pygments_lexer": "ipython3",
   "version": "3.12.0"
  }
 },
 "nbformat": 4,
 "nbformat_minor": 2
}

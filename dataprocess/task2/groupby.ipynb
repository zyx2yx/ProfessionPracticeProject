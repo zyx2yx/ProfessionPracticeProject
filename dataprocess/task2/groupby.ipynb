{
 "cells": [
  {
   "cell_type": "code",
   "execution_count": 4,
   "metadata": {},
   "outputs": [
    {
     "name": "stdout",
     "output_type": "stream",
     "text": [
      "var1:\n",
      " A\n",
      "a    4\n",
      "b    2\n",
      "dtype: int64\n",
      "var2:\n",
      " 0    0\n",
      "1    1\n",
      "2    2\n",
      "3    0\n",
      "4    1\n",
      "5    3\n",
      "dtype: int64 (6,)\n"
     ]
    }
   ],
   "source": [
    "import pandas as pd\n",
    "import numpy as np\n",
    "# A为学生ID，C为题目ID\n",
    "data = {\n",
    "'A': ['a', 'a', 'a', 'b', 'b', 'a'],\n",
    "'B': [1, 2, 3, 4, 5, 6],\n",
    "'C':['c','c','d','c','d','d']\n",
    "}\n",
    "df = pd.DataFrame(data)\n",
    "\n",
    "var1 = df.groupby('A').size()\n",
    "print('var1:\\n',var1)\n",
    "\n",
    "var2 = df.groupby('A').cumcount()\n",
    "print('var2:\\n',var2,var2.shape)"
   ]
  },
  {
   "cell_type": "code",
   "execution_count": 20,
   "metadata": {},
   "outputs": [
    {
     "name": "stdout",
     "output_type": "stream",
     "text": [
      "df:\n",
      "    A  B  C\n",
      "0  a  1  c\n",
      "1  a -1  c\n",
      "2  a  0  d\n",
      "3  b  6  c\n",
      "4  b  7  d\n",
      "5  a -2  d\n",
      "var1:\n",
      " 0    0\n",
      "1    1\n",
      "2    0\n",
      "3    0\n",
      "4    0\n",
      "5    1\n",
      "dtype: int64\n",
      "var2:\n",
      "        A  B  C\n",
      "A C           \n",
      "a c 0  a  1  c\n",
      "    1  a -1  c\n",
      "  d 2  a  0  d\n",
      "    5  a -2  d\n",
      "b c 3  b  6  c\n",
      "  d 4  b  7  d\n",
      "var3:\n",
      "    A  B  C\n",
      "0  a  1  c\n",
      "1  a -1  c\n",
      "2  a  0  d\n",
      "3  b  6  c\n",
      "4  b  7  d\n",
      "5  a -2  d\n"
     ]
    }
   ],
   "source": [
    "data = {\n",
    "'A': ['a', 'a', 'a', 'b', 'b', 'a'],\n",
    "'B': [1, -1, 0, 6, 7, -2],\n",
    "'C':['c','c','d','c','d','d']\n",
    "}\n",
    "df = pd.DataFrame(data)\n",
    "print('df:\\n',df)\n",
    "\n",
    "var1 = df.groupby(['A','C']).cumcount()\n",
    "print('var1:\\n',var1)\n",
    "\n",
    "var2 = df.groupby(['A','C']).apply(lambda x: x.sort_values('B',ascending=False))\n",
    "print('var2:\\n',var2)\n",
    "\n",
    "var3 = df.groupby(['A','C'], group_keys=False).apply(lambda x: x.sort_values('B',ascending=False)) # group_keys=False 不显示分组键\n",
    "print('var3:\\n',var3)"
   ]
  },
  {
   "cell_type": "code",
   "execution_count": 22,
   "metadata": {},
   "outputs": [
    {
     "name": "stdout",
     "output_type": "stream",
     "text": [
      "df:\n",
      "   key1  key2     data1     data2\n",
      "0    a     1  1.237910 -0.559073\n",
      "1    a     2  0.319365 -0.295436\n",
      "2    a     2  0.444422  0.304739\n",
      "3    b     1 -0.263726  0.109682\n",
      "4    b     2 -0.752647  0.044208\n",
      "5    b     1 -2.733751  1.637787\n",
      "6    a     1  0.526542 -0.957072\n",
      "7    a     2 -0.946653 -1.503209\n",
      "8    b     1 -0.508657  0.977345\n",
      "9    b     2 -0.048861  1.119749\n"
     ]
    }
   ],
   "source": [
    "df = pd.DataFrame({'key1':list('aaabbbaabb'),\n",
    "\t\t\t\t'key2':[1,2,2,1,2,1,1,2,1,2,],\n",
    "\t\t\t\t'data1':np.random.randn(10),\n",
    "\t\t\t\t'data2':np.random.randn(10)})\n",
    "print('df:\\n',df)"
   ]
  },
  {
   "cell_type": "code",
   "execution_count": 24,
   "metadata": {},
   "outputs": [
    {
     "name": "stdout",
     "output_type": "stream",
     "text": [
      "a1:\n",
      "             key1  key2     data1     data2\n",
      "key1 key2                                 \n",
      "a    1    0    a     1  1.237910 -0.559073\n",
      "          6    a     1  0.526542 -0.957072\n",
      "     2    1    a     2  0.319365 -0.295436\n",
      "          2    a     2  0.444422  0.304739\n",
      "b    1    3    b     1 -0.263726  0.109682\n",
      "          5    b     1 -2.733751  1.637787\n",
      "     2    4    b     2 -0.752647  0.044208\n",
      "          9    b     2 -0.048861  1.119749\n",
      "a2:\n",
      " key1  key2\n",
      "a     1       1\n",
      "      2       2\n",
      "b     1       1\n",
      "      2       2\n",
      "dtype: int64\n",
      "a3:\n",
      "   key1  key2     data1     data2\n",
      "0    a     1  1.237910 -0.559073\n",
      "6    a     1  0.526542 -0.957072\n",
      "1    a     2  0.319365 -0.295436\n",
      "2    a     2  0.444422  0.304739\n",
      "3    b     1 -0.263726  0.109682\n",
      "5    b     1 -2.733751  1.637787\n",
      "4    b     2 -0.752647  0.044208\n",
      "9    b     2 -0.048861  1.119749\n",
      "a4:\n",
      "   key1  key2     data1     data2\n",
      "6    a     1  0.526542 -0.957072\n",
      "0    a     1  1.237910 -0.559073\n",
      "7    a     2 -0.946653 -1.503209\n",
      "1    a     2  0.319365 -0.295436\n",
      "2    a     2  0.444422  0.304739\n",
      "5    b     1 -2.733751  1.637787\n",
      "8    b     1 -0.508657  0.977345\n",
      "3    b     1 -0.263726  0.109682\n",
      "4    b     2 -0.752647  0.044208\n",
      "9    b     2 -0.048861  1.119749\n",
      "a5:\n",
      "             key1  key2     data1     data2\n",
      "key1 key2                                 \n",
      "a    1    6    a     1  0.526542 -0.957072\n",
      "          0    a     1  1.237910 -0.559073\n",
      "     2    7    a     2 -0.946653 -1.503209\n",
      "          1    a     2  0.319365 -0.295436\n",
      "          2    a     2  0.444422  0.304739\n",
      "b    1    5    b     1 -2.733751  1.637787\n",
      "          8    b     1 -0.508657  0.977345\n",
      "          3    b     1 -0.263726  0.109682\n",
      "     2    4    b     2 -0.752647  0.044208\n",
      "          9    b     2 -0.048861  1.119749\n"
     ]
    }
   ],
   "source": [
    "a1 = df.groupby(['key1','key2'],group_keys=True).apply(lambda x:x.iloc[[0,1],]) # [0,1]表示选出每组的前两行\n",
    "a2 = df.groupby(['key1','key2'],group_keys=False).apply(lambda x:x.iloc[0,1]) # [0,1]表示选出每组的第一行和第二列\n",
    "# 匿名函数的作用是选出每组的前两行\n",
    "print('a1:\\n',a1)\n",
    "print('a2:\\n',a2)\n",
    "\n",
    "# group_keys=False 可以禁用分组键所形成的索引，不会删去原始对象的索引。\n",
    "a3 = df.groupby(['key1','key2'],group_keys=False).apply(lambda x:x.iloc[[0,1]])\n",
    "print('a3:\\n',a3)\n",
    "\n",
    "a4 = df.groupby(['key1','key2'],group_keys=False).apply(lambda x:x.sort_values('data1',ascending=True))\n",
    "print('a4:\\n',a4)\n",
    "a5 = df.groupby(['key1','key2'],group_keys=True).apply(lambda x:x.sort_values('data1',ascending=True))\n",
    "print('a5:\\n',a5)\n"
   ]
  },
  {
   "cell_type": "markdown",
   "metadata": {},
   "source": [
    "我是否可以这样理解，当我使用了groupby对数据进行分组，使用sort_values进行排序，设置group_keys=False后的输出结果顺序并不一定是与group_keys=True一致，但组内数据的相对顺序是不会改变的，严格按照排序规则排列。\n",
    "\n",
    "是的，你的理解是正确的。具体来说：\n",
    "\n",
    "组内数据排序：无论 group_keys 是 True 还是 False，每个分组内的数据都会严格按照 sort_values 指定的排序规则进行排序。也就是说，组内数据的相对顺序不会改变，它们始终按照指定的列进行升序或降序排列。\n",
    "\n",
    "拼接顺序：\n",
    "\n",
    "group_keys=True：输出结果会保留分组键，分组的顺序和拼接顺序会按照分组键来显示。每个分组的数据块会被清楚地标识出来，分组之间的顺序与原始数据中的分组顺序一致。\n",
    "group_keys=False：输出结果不会保留分组键，结果中的所有数据行会直接拼接在一起。尽管分组内的数据相对顺序保持不变，但分组之间的拼接顺序不一定与 group_keys=True 的顺序一致，具体取决于数据和排序方式"
   ]
  }
 ],
 "metadata": {
  "kernelspec": {
   "display_name": "project_SONG",
   "language": "python",
   "name": "python3"
  },
  "language_info": {
   "codemirror_mode": {
    "name": "ipython",
    "version": 3
   },
   "file_extension": ".py",
   "mimetype": "text/x-python",
   "name": "python",
   "nbconvert_exporter": "python",
   "pygments_lexer": "ipython3",
   "version": "3.12.0"
  }
 },
 "nbformat": 4,
 "nbformat_minor": 2
}

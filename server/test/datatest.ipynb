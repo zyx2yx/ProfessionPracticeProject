{
 "cells": [
  {
   "cell_type": "code",
   "execution_count": 9,
   "metadata": {},
   "outputs": [
    {
     "name": "stdout",
     "output_type": "stream",
     "text": [
      "['Absolutely_Correct' 'Error1' 'Absolutely_Error' 'Error6' 'Error4'\n",
      " 'Partially_Correct' 'Error2' 'Error3' 'Error5' 'Error7' 'Error8' 'Error9']\n",
      "['Method_Cj9Ya2R7fZd6xs1q5mNQ' 'Method_gj1NLb4Jn7URf9K2kQPd'\n",
      " 'Method_5Q4KoXthUuYz3bvrTDFm' 'Method_m8vwGkEZc3TSW2xqYUoR'\n",
      " 'Method_BXr9AIsPQhwNvyGdZL57']\n",
      "[1, 'Class1', 1704209852.0, 'Absolutely_Correct', 3, 'Question_62XbhBvJ8NUSnApgDL94', 'Method_gj1NLb4Jn7URf9K2kQPd', 356, 3.0, '8b6d1125760bd3939b6e', 'female', 24.0, 'J23517', 'y9W5d', 'y9W5d_c0w4mj5h', 3.0]\n"
     ]
    }
   ],
   "source": [
    "import pandas as pd\n",
    "import numpy as np\n",
    "import os\n",
    "\n",
    "relative_path = \"../../sourcedata/\"\n",
    "# 获取当前文件路径\n",
    "\n",
    "\n",
    "student_info = pd.read_csv(relative_path + 'All_Class/all_class_submit_record.csv')\n",
    "# 分别对state、method列去重并输出\n",
    "print(student_info['state'].unique())\n",
    "print(student_info['method'].unique())\n",
    "print(student_info.iloc[1].to_list())"
   ]
  },
  {
   "cell_type": "code",
   "execution_count": 10,
   "metadata": {},
   "outputs": [
    {
     "name": "stdout",
     "output_type": "stream",
     "text": [
      "[1, 3, 2, 4]\n"
     ]
    }
   ],
   "source": [
    "list1 = [1,3]\n",
    "list2 = [2,4]\n",
    "print(list1+list2)"
   ]
  }
 ],
 "metadata": {
  "kernelspec": {
   "display_name": "project_SONG",
   "language": "python",
   "name": "python3"
  },
  "language_info": {
   "codemirror_mode": {
    "name": "ipython",
    "version": 3
   },
   "file_extension": ".py",
   "mimetype": "text/x-python",
   "name": "python",
   "nbconvert_exporter": "python",
   "pygments_lexer": "ipython3",
   "version": "3.12.0"
  }
 },
 "nbformat": 4,
 "nbformat_minor": 2
}

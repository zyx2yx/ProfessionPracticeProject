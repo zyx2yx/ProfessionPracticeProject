{
 "cells": [
  {
   "cell_type": "code",
   "execution_count": 1,
   "metadata": {},
   "outputs": [],
   "source": [
    "import os\n",
    "import pandas as pd\n",
    "\n",
    "# 将Merged_Data_SubmitRecord/下的所有文件合并到一个文件中 保存到All_Class文件夹下\n",
    "relative_path = '../../sourcedata/'\n",
    "submit_record_path = relative_path + 'Merged_Data_SubmitRecord/'\n",
    "all_class_path = relative_path + 'All_Class/'\n",
    "\n",
    "# 删除该文件夹下的all_class_submit_record.csv\n",
    "if os.path.exists(all_class_path + 'all_class_submit_record.csv'):\n",
    "    os.remove(all_class_path + 'all_class_submit_record.csv')\n",
    "\n",
    "# 该文件夹下只存在csv文件\n",
    "id = 0\n",
    "for file in os.listdir(submit_record_path):\n",
    "    if file.endswith('.csv'):\n",
    "        df = pd.read_csv(submit_record_path + file)\n",
    "        df.to_csv(all_class_path + 'all_class_submit_record.csv', mode='a', index=False, header= 0==id) # index=False 不保存行索引 header=False 不保存列名\n",
    "        id += 1\n",
    "    # break # 测试时只合并一个文件"
   ]
  }
 ],
 "metadata": {
  "kernelspec": {
   "display_name": "project_SONG",
   "language": "python",
   "name": "python3"
  },
  "language_info": {
   "codemirror_mode": {
    "name": "ipython",
    "version": 3
   },
   "file_extension": ".py",
   "mimetype": "text/x-python",
   "name": "python",
   "nbconvert_exporter": "python",
   "pygments_lexer": "ipython3",
   "version": "3.12.0"
  }
 },
 "nbformat": 4,
 "nbformat_minor": 2
}

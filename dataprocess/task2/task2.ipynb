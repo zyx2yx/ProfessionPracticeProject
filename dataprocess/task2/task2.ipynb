{
 "cells": [
  {
   "cell_type": "code",
   "execution_count": 1,
   "metadata": {},
   "outputs": [],
   "source": [
    "import pandas as pd\n",
    "import numpy as np\n",
    "import matplotlib.pyplot as plt\n",
    "import seaborn as sns\n",
    "from sklearn.cluster import KMeans\n",
    "from sklearn.preprocessing import StandardScaler\n",
    "from datetime import datetime\n"
   ]
  },
  {
   "cell_type": "markdown",
   "metadata": {},
   "source": [
    "1. 特征提取\n",
    "\n",
    "student_ID: 学习者ID\n",
    "time: 答题时间\n",
    "title_ID: 题目ID\n",
    "knowledge: 题目类型（如选择题、填空题、编程题等）\n",
    "is_correct: 答题是否正确（1表示正确，0表示错误）\n",
    "score: 得分\n",
    "attempt: 第几次尝试"
   ]
  },
  {
   "cell_type": "code",
   "execution_count": 2,
   "metadata": {},
   "outputs": [],
   "source": [
    "# submit_record = pd.read_csv('path_to_your_data.csv')\n",
    "\n",
    "relative_path = '../../sourcedata/'\n",
    "\n",
    "# 读取题目信息 title = 题目\n",
    "title_info = pd.read_csv(relative_path + 'Data_TitleInfo.csv')\n",
    "\n",
    "# 读取学生信息 student = 学生\n",
    "student_info = pd.read_csv(relative_path + 'Data_StudentInfo.csv')\n",
    "\n",
    "# 读取学生答题记录\n",
    "submit_record = pd.read_csv(relative_path + 'All_Class/all_class_submit_record.csv')"
   ]
  },
  {
   "cell_type": "code",
   "execution_count": 6,
   "metadata": {},
   "outputs": [],
   "source": [
    "# 公共数据处理\n",
    "\n",
    "# 对学生的提交记录按照学生ID、题目ID分组，然后在组内对时间进行排序\n",
    "submit_record = submit_record.sort_values(by=['student_ID', 'title_ID', 'time'], ascending=[True, True, True])\n",
    "# 对submit_record统计学生ID与题目ID相同的记录，即学生对同一题目的多次提交记录，添加一列attempt，表示第几次尝试。\n",
    "submit_record['attempt'] = submit_record.groupby(['student_ID', 'title_ID']).cumcount() + 1\n",
    "# print(submit_record.head(30))\n",
    "\n",
    "# submit_record['is_correct'] = 1 if submit_record['full_score'] == submit_record['score'] else 0\n",
    "# 根据submit_record的full_score和score是否相等，判断学生的答题是否正确，添加一列is_correct，1表示正确，0表示错误。\n",
    "submit_record['is_correct'] = submit_record['full_score'] == submit_record['score']"
   ]
  },
  {
   "cell_type": "code",
   "execution_count": 4,
   "metadata": {},
   "outputs": [],
   "source": [
    "# 时间特征提取\n",
    "# 提取答题时间的特征，如每日、每周、每月的答题数量，分析答题高峰时段。\n",
    "submit_record['time'] = pd.to_datetime(submit_record['time'])\n",
    "submit_record['hour'] = submit_record['time'].dt.hour\n",
    "submit_record['day'] = submit_record['time'].dt.day\n",
    "submit_record['weekday'] = submit_record['time'].dt.weekday\n",
    "submit_record['month'] = submit_record['time'].dt.month\n",
    "\n",
    "# 按时间特征统计答题量\n",
    "hourly_data = submit_record.groupby('hour').size()\n",
    "daily_data = submit_record.groupby('day').size()\n",
    "weekly_data = submit_record.groupby('weekday').size()\n",
    "monthly_data = submit_record.groupby('month').size()\n"
   ]
  },
  {
   "cell_type": "code",
   "execution_count": 7,
   "metadata": {},
   "outputs": [
    {
     "name": "stdout",
     "output_type": "stream",
     "text": [
      "           question_count  correct_rate\n",
      "knowledge                              \n",
      "b3C9s               14780      0.313532\n",
      "g7R2j               33041      0.223117\n",
      "m3D1v               47740      0.287516\n",
      "r8S3g               36730      0.205717\n",
      "t5V9e               37986      0.215948\n",
      "y9W5d               62541      0.267840\n"
     ]
    }
   ],
   "source": [
    "# 题型偏好\n",
    "# 统计不同题型的答题次数和正确率。（不区分学生）\n",
    "question_type_stats = submit_record.groupby('knowledge').agg({'title_ID': 'count', 'is_correct': 'mean'})\n",
    "question_type_stats.columns = ['question_count', 'correct_rate']\n",
    "print(question_type_stats)\n"
   ]
  },
  {
   "cell_type": "code",
   "execution_count": null,
   "metadata": {},
   "outputs": [],
   "source": [
    "\n",
    "# 正确率\n",
    "# 计算每个学习者的整体正确率，以及不同题型、不同时间段的正确率。\n",
    "student_correct_rate = submit_record.groupby('student_ID')['is_correct'].mean()\n",
    "type_correct_rate = submit_record.groupby(['student_ID', 'knowledge'])['is_correct'].mean().unstack()# unstack()将多层索引的数据框转换为单层索引的数据框\n"
   ]
  },
  {
   "cell_type": "code",
   "execution_count": null,
   "metadata": {},
   "outputs": [],
   "source": [
    "\n",
    "# 尝试次数\n",
    "# 记录每个学习者对每道题目的尝试次数。\n",
    "attempt_stats = submit_record.groupby('student_ID')['attempt'].mean()\n"
   ]
  },
  {
   "cell_type": "code",
   "execution_count": null,
   "metadata": {},
   "outputs": [],
   "source": [
    "# 聚类分析\n",
    "# 对学习者进行分群，找出具有相似学习行为的学习者群体\n",
    "features = submit_record.groupby('student_ID').agg({\n",
    "    'is_correct': 'mean',\n",
    "    'title_ID': 'count',\n",
    "    'attempt': 'mean',\n",
    "    'hour': lambda x: x.value_counts().idxmax(),\n",
    "    'knowledge': lambda x: x.value_counts().idxmax()\n",
    "})\n",
    "\n",
    "# 编码分类特征\n",
    "features['hour'] = features['hour'].astype('category').cat.codes\n",
    "features['knowledge'] = features['knowledge'].astype('category').cat.codes\n",
    "\n",
    "# 标准化特征\n",
    "scaler = StandardScaler()\n",
    "scaled_features = scaler.fit_transform(features)\n",
    "\n",
    "# KMeans聚类\n",
    "kmeans = KMeans(n_clusters=3, random_state=42)\n",
    "features['cluster'] = kmeans.fit_predict(scaled_features)\n"
   ]
  },
  {
   "cell_type": "code",
   "execution_count": null,
   "metadata": {},
   "outputs": [],
   "source": [
    "# 可视化聚类结果\n",
    "# 使用雷达图展示不同学习者群体的特征。\n",
    "import matplotlib.pyplot as plt\n",
    "from math import pi\n",
    "\n",
    "def plot_radar_chart(submit_record, title):\n",
    "    # 准备数据\n",
    "    labels = submit_record.columns[:-1]\n",
    "    num_vars = len(labels)\n",
    "    \n",
    "    angles = np.linspace(0, 2 * np.pi, num_vars, endpoint=False).tolist()\n",
    "    angles += angles[:1]\n",
    "\n",
    "    fig, ax = plt.subplots(figsize=(6, 6), subplot_kw=dict(polar=True))\n",
    "    ax.set_theta_offset(pi / 2)\n",
    "    ax.set_theta_direction(-1)\n",
    "    \n",
    "    for i, (name, row) in enumerate(submit_record.iterrows()):\n",
    "        values = row.drop('cluster').tolist()\n",
    "        values += values[:1]\n",
    "        ax.plot(angles, values, linewidth=1, linestyle='solid', label=f'Cluster {name}')\n",
    "        ax.fill(angles, values, alpha=0.25)\n",
    "    \n",
    "    ax.set_yticklabels([])\n",
    "    ax.set_xticks(angles[:-1])\n",
    "    ax.set_xticklabels(labels)\n",
    "    \n",
    "    plt.legend(loc='upper right', bbox_to_anchor=(0.1, 0.1))\n",
    "    plt.title(title)\n",
    "    plt.show()\n",
    "\n",
    "# 聚类中心点\n",
    "cluster_centers = features.groupby('cluster').mean()\n",
    "plot_radar_chart(cluster_centers, 'Cluster Characteristics')\n"
   ]
  }
 ],
 "metadata": {
  "kernelspec": {
   "display_name": "project_SONG",
   "language": "python",
   "name": "python3"
  },
  "language_info": {
   "codemirror_mode": {
    "name": "ipython",
    "version": 3
   },
   "file_extension": ".py",
   "mimetype": "text/x-python",
   "name": "python",
   "nbconvert_exporter": "python",
   "pygments_lexer": "ipython3",
   "version": "3.12.0"
  }
 },
 "nbformat": 4,
 "nbformat_minor": 2
}
